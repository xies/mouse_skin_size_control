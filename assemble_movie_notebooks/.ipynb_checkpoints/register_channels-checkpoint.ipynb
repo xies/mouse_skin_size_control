{
 "cells": [
  {
   "cell_type": "code",
   "execution_count": 36,
   "id": "ad4bf308-f1ce-46a5-85db-f64ccf418da5",
   "metadata": {},
   "outputs": [],
   "source": [
    "from skimage import io,transform, util\n",
    "import numpy as np\n",
    "import stackview\n",
    "import pystackreg\n",
    "\n",
    "from os import path\n",
    "from glob import glob\n",
    "from pystackreg import StackReg\n",
    "from skimage.transform import EuclideanTransform, warp\n",
    "\n",
    "from imageUtils import find_most_likely_z_slice_using_CC, z_translate_and_pad"
   ]
  },
  {
   "cell_type": "code",
   "execution_count": 2,
   "id": "7963010f-c776-4f43-8326-3e6f35a9a19d",
   "metadata": {},
   "outputs": [],
   "source": [
    "dirname = '/Users/xies/Library/CloudStorage/OneDrive-Stanford/Skin/Two photon/NMS/Palbo senescence pilot/09-29-2025 Ear palbo pilot/M1tail 3017 H2B FUCCI/Left ear/1. Day 1/R1'"
   ]
  },
  {
   "cell_type": "markdown",
   "id": "12f596b8-bea8-4ae5-b557-168ad404a0f4",
   "metadata": {},
   "source": [
    "# 0. Load channel TIFs"
   ]
  },
  {
   "cell_type": "code",
   "execution_count": 4,
   "id": "e8be06c2-c911-4cf2-b179-350bf626f97b",
   "metadata": {},
   "outputs": [],
   "source": [
    "B = io.imread(path.join(dirname,'B_reg.tif'))\n",
    "R = io.imread(path.join(dirname,'R_reg.tif'))\n",
    "R_shg = io.imread(path.join(dirname,'R_shg_reg.tif'))\n",
    "\n",
    "dx = 0.2919921875\n",
    "dz = 1\n",
    "scale = [dz/dx,1,1]"
   ]
  },
  {
   "cell_type": "code",
   "execution_count": 9,
   "id": "69822d7a-78df-4ac2-9d9e-4a2397228586",
   "metadata": {},
   "outputs": [
    {
     "data": {
      "application/vnd.jupyter.widget-view+json": {
       "model_id": "11eebfb867724c2a8dfb83a489f4db21",
       "version_major": 2,
       "version_minor": 0
      },
      "text/plain": [
       "HBox(children=(VBox(children=(VBox(children=(HBox(children=(VBox(children=(ImageWidget(height=512, width=512),…"
      ]
     },
     "execution_count": 9,
     "metadata": {},
     "output_type": "execute_result"
    }
   ],
   "source": [
    "slicer = stackview.slice(B,zoom_factor=0.5)\n",
    "slicer"
   ]
  },
  {
   "cell_type": "code",
   "execution_count": 6,
   "id": "8381cae5-48c0-4fd4-8ed8-19fffd62e2d4",
   "metadata": {},
   "outputs": [
    {
     "data": {
      "application/vnd.jupyter.widget-view+json": {
       "model_id": "922a599bf740452ab458af14dc0a29c0",
       "version_major": 2,
       "version_minor": 0
      },
      "text/plain": [
       "HBox(children=(VBox(children=(VBox(children=(HBox(children=(VBox(children=(ImageWidget(height=512, width=512),…"
      ]
     },
     "execution_count": 6,
     "metadata": {},
     "output_type": "execute_result"
    }
   ],
   "source": []
  },
  {
   "cell_type": "code",
   "execution_count": 16,
   "id": "90a99451-5c13-43ed-84df-949faf5cafdf",
   "metadata": {},
   "outputs": [
    {
     "name": "stdout",
     "output_type": "stream",
     "text": [
      "Cross correlation started\n",
      "Z slice on target stsack: 9\n"
     ]
    }
   ],
   "source": [
    "idx_Z_reference = 12\n",
    "idx_Z_target = find_most_likely_z_slice_using_CC(B[idx_Z_reference,...], R)\n",
    "\n",
    "print(f'Z slice on target stsack: {idx_Z_target}')\n"
   ]
  },
  {
   "cell_type": "code",
   "execution_count": 61,
   "id": "62b71341-7168-492a-a4e5-352f63124720",
   "metadata": {},
   "outputs": [
    {
     "name": "stdout",
     "output_type": "stream",
     "text": [
      "side_by_side\n"
     ]
    },
    {
     "data": {
      "application/vnd.jupyter.widget-view+json": {
       "model_id": "d3c970d3beef4010a901777e9d1a8dd9",
       "version_major": 2,
       "version_minor": 0
      },
      "text/plain": [
       "HBox(children=(VBox(children=(VBox(children=(HBox(children=(HBox(children=(VBox(children=(ImageWidget(height=5…"
      ]
     },
     "execution_count": 61,
     "metadata": {},
     "output_type": "execute_result"
    }
   ],
   "source": [
    "reference = B[idx_Z_reference]\n",
    "target = R[idx_Z_target]\n",
    "stackview.side_by_side(B[idx_Z_reference,...],R[idx_Z_target,...],zoom_factor=0.5)"
   ]
  },
  {
   "cell_type": "code",
   "execution_count": 64,
   "id": "6e4f76b8-1366-4a97-a016-5fb0a036ab70",
   "metadata": {},
   "outputs": [
    {
     "name": "stdout",
     "output_type": "stream",
     "text": [
      "StackReg + transform\n",
      "Target image shape pre-padding: (43, 1024, 1024)\n",
      "Target image shape pre-padding: (52, 1024, 1024)\n",
      "Reference image shape: (52, 1024, 1024)\n"
     ]
    }
   ],
   "source": [
    "#NB: Here, move the R channel wrt the B channel\n",
    "print('StackReg + transform')\n",
    "sr = StackReg(StackReg.RIGID_BODY)\n",
    "T = sr.register(target/target.max(),reference) #Obtain the transformation matrices\n",
    "T = EuclideanTransform(T)\n",
    "R_transformed = np.zeros_like(R).astype(float)\n",
    "R_shg_transformed = np.zeros_like(R).astype(float)\n",
    "for i, R_slice in enumerate(R):\n",
    "    R_transformed[i,...] = warp(R_slice,T)\n",
    "    R_shg_transformed[i,...] = warp(R_shg[i,...],T)\n",
    "\n",
    "# z-pad\n",
    "print(f'Target image shape pre-padding: {R_transformed.shape}')\n",
    "R_padded = z_translate_and_pad(B,R_transformed,idx_Z_reference,idx_Z_target)\n",
    "print(f'Target image shape pre-padding: {R_padded.shape}')\n",
    "print(f'Reference image shape: {B.shape}')\n",
    "\n",
    "R_shg_padded = z_translate_and_pad(B,R_shg_transformed,idx_Z_reference,idx_Z_target)\n",
    "\n",
    "R_padded = util.img_as_uint(R_padded/R_padded.max())\n",
    "R_shg_padded = util.img_as_uint(R_shg_padded/R_shg_padded.max())"
   ]
  },
  {
   "cell_type": "code",
   "execution_count": 63,
   "id": "221cd4dd-72e6-47a2-9eef-b049d1513d5f",
   "metadata": {},
   "outputs": [
    {
     "name": "stdout",
     "output_type": "stream",
     "text": [
      "side_by_side\n"
     ]
    },
    {
     "data": {
      "application/vnd.jupyter.widget-view+json": {
       "model_id": "648dd50540c84a23a0241c2faf6711d4",
       "version_major": 2,
       "version_minor": 0
      },
      "text/plain": [
       "HBox(children=(VBox(children=(VBox(children=(HBox(children=(HBox(children=(VBox(children=(ImageWidget(height=5…"
      ]
     },
     "execution_count": 63,
     "metadata": {},
     "output_type": "execute_result"
    }
   ],
   "source": [
    "stackview.side_by_side(B[idx_Z_reference,...],R_padded[idx_Z_reference,...],zoom_factor=0.5)\n"
   ]
  },
  {
   "cell_type": "code",
   "execution_count": null,
   "id": "e72a67e9-92e9-4426-aa2f-311d573bb806",
   "metadata": {},
   "outputs": [],
   "source": [
    "io.imsave(path.join(dirname,'R_reg_reg.tif'),R_padded)\n",
    "io.imsave(path.join(dirname,'R_shg_reg_reg.tif'),R_shg_padded)"
   ]
  }
 ],
 "metadata": {
  "kernelspec": {
   "display_name": "Python 3 (ipykernel)",
   "language": "python",
   "name": "python3"
  },
  "language_info": {
   "codemirror_mode": {
    "name": "ipython",
    "version": 3
   },
   "file_extension": ".py",
   "mimetype": "text/x-python",
   "name": "python",
   "nbconvert_exporter": "python",
   "pygments_lexer": "ipython3",
   "version": "3.12.2"
  }
 },
 "nbformat": 4,
 "nbformat_minor": 5
}
