{
 "cells": [
  {
   "cell_type": "code",
   "execution_count": 1,
   "id": "efdd57c1-3a9a-40f3-9466-687d13a1d9e6",
   "metadata": {},
   "outputs": [],
   "source": [
    "import numpy as np\n",
    "from skimage import io, util, measure\n",
    "from scipy.ndimage import gaussian_filter\n",
    "from scipy import interpolate\n",
    "import pandas as pd\n",
    "\n",
    "from os import path\n",
    "import stackview\n",
    "import matplotlib.pyplot as plt\n"
   ]
  },
  {
   "cell_type": "markdown",
   "id": "4c253f08-47a1-410c-a41b-72ea955a95c8",
   "metadata": {},
   "source": [
    "# 0. Load datasets"
   ]
  },
  {
   "cell_type": "code",
   "execution_count": 23,
   "id": "d60ac098-7899-47b7-8313-6a19c004be88",
   "metadata": {},
   "outputs": [],
   "source": [
    "# Load segmentations\n",
    "dirname = '/Users/xies/Library/CloudStorage/OneDrive-Stanford/Skin/Two photon/NMS/Palbo senescence pilot/09-29-2025 Ear palbo pilot/M1tail 3017 H2B FUCCI/Left ear/1. Day 1/R1'\n",
    "\n",
    "masks = io.imread(path.join(dirname,'G_reg_decon_cp_masks.tif'))\n",
    "heightmap = io.imread(path.join(dirname,'heightmap.tif'))\n",
    "height_image = io.imread(path.join(dirname,'height_image.tif'))"
   ]
  },
  {
   "cell_type": "code",
   "execution_count": 24,
   "id": "29fde380-8a39-4949-a37b-8cadc97f10d4",
   "metadata": {},
   "outputs": [],
   "source": [
    "df = pd.DataFrame(measure.regionprops_table(masks,properties={'label','area','centroid','bbox'}))\n",
    "\n",
    "# Look at each XY coord and look up heightmap\n",
    "Z = heightmap[ df['centroid-1'].round().astype(int), df['centroid-1'].round().astype(int) ]\n",
    "df['Corrected Z'] = df['bbox-0'] - Z\n"
   ]
  },
  {
   "cell_type": "code",
   "execution_count": 25,
   "id": "ed2d0317-fd2f-48d4-b36f-1a348ee814be",
   "metadata": {},
   "outputs": [
    {
     "data": {
      "application/vnd.jupyter.widget-view+json": {
       "model_id": "19bda97f4533490c9abe07df2a8cbb97",
       "version_major": 2,
       "version_minor": 0
      },
      "text/plain": [
       "HBox(children=(VBox(children=(VBox(children=(HBox(children=(VBox(children=(ImageWidget(height=512, width=512),…"
      ]
     },
     "execution_count": 25,
     "metadata": {},
     "output_type": "execute_result"
    }
   ],
   "source": [
    "stackview.switch([masks,height_image],\n",
    "                 colormap=['pure_magenta','pure_green'],\n",
    "                zoom_factor=0.5,\n",
    "                toggleable=True)"
   ]
  },
  {
   "cell_type": "code",
   "execution_count": 26,
   "id": "8ee111a8-5f64-4b45-95fe-1a2b9684bb43",
   "metadata": {},
   "outputs": [
    {
     "data": {
      "application/vnd.jupyter.widget-view+json": {
       "model_id": "96f9f44d4f4748f5853b51c3e8bf2f0e",
       "version_major": 2,
       "version_minor": 0
      },
      "text/plain": [
       "VBox(children=(HBox(children=(HBox(children=(VBox(children=(VBox(children=(HBox(children=(VBox(children=(Image…"
      ]
     },
     "execution_count": 26,
     "metadata": {},
     "output_type": "execute_result"
    }
   ],
   "source": [
    "df.to_excel(path.join(dirname,'pre_gated.xlsx'))\n",
    "\n",
    "cluster_plot = stackview.clusterplot(image=masks,\n",
    "                     labels=masks,\n",
    "                     df=df,\n",
    "                     column_x=\"area\",\n",
    "                     column_y=\"Corrected Z\", \n",
    "                     zoom_factor=0.5,\n",
    "                     alpha=0.5)\n",
    "cluster_plot"
   ]
  },
  {
   "cell_type": "code",
   "execution_count": 40,
   "id": "756c2005-c767-4fc0-b519-5c66775fa0cd",
   "metadata": {},
   "outputs": [
    {
     "name": "stderr",
     "output_type": "stream",
     "text": [
      "/var/folders/zp/5k1kvm9j0t19cvq8h628kr8h0000gn/T/ipykernel_93781/2864155300.py:3: DeprecationWarning: `in1d` is deprecated. Use `np.isin` instead.\n",
      "  I = np.in1d(basal_masks, basals.index)\n"
     ]
    }
   ],
   "source": [
    "basals = df[df['selection']]\n",
    "basal_masks = masks.flatten()\n",
    "I = np.in1d(basal_masks, basals.index)\n",
    "basal_masks[~I] = 0\n",
    "basal_masks = basal_masks.reshape(masks.shape)"
   ]
  },
  {
   "cell_type": "code",
   "execution_count": 41,
   "id": "ff59b6c4-1532-4615-936b-b6b1bffa6a32",
   "metadata": {},
   "outputs": [
    {
     "data": {
      "application/vnd.jupyter.widget-view+json": {
       "model_id": "845abbd705bb499fbeea0e9a215fb531",
       "version_major": 2,
       "version_minor": 0
      },
      "text/plain": [
       "HBox(children=(VBox(children=(VBox(children=(HBox(children=(VBox(children=(ImageWidget(height=512, width=512),…"
      ]
     },
     "execution_count": 41,
     "metadata": {},
     "output_type": "execute_result"
    }
   ],
   "source": [
    "stackview.switch({'all_masks':masks,\n",
    "                  'basals':basal_masks},\n",
    "                 colormap=['pure_magenta','pure_green'],\n",
    "                 toggleable=True,\n",
    "                 zoom_factor=0.5)"
   ]
  },
  {
   "cell_type": "code",
   "execution_count": 43,
   "id": "b08ba8ee-6cb1-456d-9286-8a70eef7264a",
   "metadata": {},
   "outputs": [
    {
     "name": "stderr",
     "output_type": "stream",
     "text": [
      "/opt/miniconda3/envs/jupyter/lib/python3.12/site-packages/skimage/_shared/utils.py:328: UserWarning: /Users/xies/Library/CloudStorage/OneDrive-Stanford/Skin/Two photon/NMS/Palbo senescence pilot/09-29-2025 Ear palbo pilot/M1tail 3017 H2B FUCCI/Left ear/1. Day 1/R1/G_reg_decon_cp_masks_basals.tif is a low contrast image\n",
      "  return func(*args, **kwargs)\n"
     ]
    }
   ],
   "source": [
    "io.imsave(path.join(dirname,'G_reg_decon_cp_masks_basals.tif'),basal_masks)"
   ]
  },
  {
   "cell_type": "code",
   "execution_count": null,
   "id": "01a29bf2-43ef-46b8-aad0-a6bec5d5152c",
   "metadata": {},
   "outputs": [],
   "source": []
  }
 ],
 "metadata": {
  "kernelspec": {
   "display_name": "Python 3 (ipykernel)",
   "language": "python",
   "name": "python3"
  },
  "language_info": {
   "codemirror_mode": {
    "name": "ipython",
    "version": 3
   },
   "file_extension": ".py",
   "mimetype": "text/x-python",
   "name": "python",
   "nbconvert_exporter": "python",
   "pygments_lexer": "ipython3",
   "version": "3.12.2"
  }
 },
 "nbformat": 4,
 "nbformat_minor": 5
}
