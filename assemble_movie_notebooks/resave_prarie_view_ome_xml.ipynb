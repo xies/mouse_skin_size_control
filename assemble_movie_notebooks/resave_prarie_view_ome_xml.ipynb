{
 "cells": [
  {
   "cell_type": "code",
   "execution_count": 2,
   "id": "a1ce435d-42a4-4918-b263-d6c55bc99847",
   "metadata": {},
   "outputs": [
    {
     "name": "stderr",
     "output_type": "stream",
     "text": [
      "<>:24: SyntaxWarning: invalid escape sequence '\\d'\n",
      "<>:24: SyntaxWarning: invalid escape sequence '\\d'\n",
      "/var/folders/zp/5k1kvm9j0t19cvq8h628kr8h0000gn/T/ipykernel_66928/2183388896.py:24: SyntaxWarning: invalid escape sequence '\\d'\n",
      "  z = findall('_(\\d+).ome.tif',filename)[0]\n"
     ]
    }
   ],
   "source": [
    "from pathlib import Path\n",
    "from typing import List\n",
    "\n",
    "from os import path\n",
    "import numpy as np\n",
    "from skimage import io,util,filters\n",
    "from skimage.transform import EuclideanTransform, warp\n",
    "from scipy import ndimage\n",
    "\n",
    "from pystackreg import StackReg\n",
    "# from twophotonUtils import parse_unregistered_channels\n",
    "# from twophotonUtils import find_most_likely_z_slice_using_CC, z_translate_and_pad\n",
    "# from imageLoadingWidgets import LoadTimepointForInspection\n",
    "\n",
    "from os import path\n",
    "from glob import glob\n",
    "from re import findall\n",
    "from tqdm import tqdm\n",
    "\n",
    "import stackview\n",
    "\n",
    "# Extract the first ome.tiff file from every subfolder, load, then separate the two channels\n",
    "def sort_by_slice(filename):\n",
    "    z = findall('_(\\d+).ome.tif',filename)[0]\n",
    "    return int(z)\n"
   ]
  },
  {
   "cell_type": "markdown",
   "id": "9568d18f-f3bc-4bf8-8d96-0877492c4e4e",
   "metadata": {},
   "source": [
    "# 0. Get file paths\n",
    "\n",
    "Step one: Load all the OME-TIFFs and re-save as multipage TIFFs for each time point in region\n",
    "Will perform a StackReg on each stack just in case there is small movement.\n"
   ]
  },
  {
   "cell_type": "code",
   "execution_count": 35,
   "id": "19abab39-819d-4905-9f35-b0a62ff99c39",
   "metadata": {},
   "outputs": [
    {
     "name": "stdout",
     "output_type": "stream",
     "text": [
      "Found 1 B/G stacks and 1 R/R_shg stacks\n"
     ]
    }
   ],
   "source": [
    "dirname = '/Users/xies/Library/CloudStorage/OneDrive-Stanford/Skin/Two photon/NMS/Palbo senescence pilot/09-29-2025 Ear palbo pilot/M1tail 3017 H2B FUCCI/Right ear/4. Day 4/R2'\n",
    "\n",
    "subfolders = glob(path.join(dirname,'ZSeries*/'))\n",
    "\n",
    "header_ome_h2b = []\n",
    "header_ome_fucci = []\n",
    "\n",
    "for d in subfolders:\n",
    "    \n",
    "    ome_tifs = glob(path.join(d,'*.ome.tif'))\n",
    "    ome_tifs = sorted(ome_tifs) # Sort by channel #\n",
    "    ome_tifs = sorted(ome_tifs, key = sort_by_slice) # Sort by slice #\n",
    "    if len(ome_tifs) < 40:\n",
    "        print(f'Skipping {d}')\n",
    "    else:\n",
    "        if len(findall('1020nm',path.split(path.split(d)[0])[1])) == 0:\n",
    "            header_ome_h2b.append(ome_tifs[0])\n",
    "        else:\n",
    "            header_ome_fucci.append(ome_tifs[0])\n",
    "\n",
    "print(f'Found {len(header_ome_h2b)} B/G stacks and {len(header_ome_fucci)} R/R_shg stacks')"
   ]
  },
  {
   "cell_type": "markdown",
   "id": "d67ec8bd-7f2e-4a68-8927-21d54a97e805",
   "metadata": {},
   "source": [
    "# B/G: Load OME-TIFF and save *_reg.tif"
   ]
  },
  {
   "cell_type": "code",
   "execution_count": 37,
   "id": "99cb0376-583a-4932-a6f8-30bf847d5365",
   "metadata": {
    "scrolled": true
   },
   "outputs": [
    {
     "name": "stderr",
     "output_type": "stream",
     "text": [
      "100%|██████████████████████████████████████████████| 1/1 [00:00<00:00, 2212.19it/s]"
     ]
    },
    {
     "name": "stdout",
     "output_type": "stream",
     "text": [
      "All *_reg channels exist\n"
     ]
    },
    {
     "name": "stderr",
     "output_type": "stream",
     "text": [
      "\n"
     ]
    }
   ],
   "source": [
    "import warnings\n",
    "warnings.filterwarnings(\"ignore\")\n",
    "\n",
    "names = ['B','G']\n",
    "registerZ = False; reference = 'B'\n",
    "\n",
    "for header_ome in tqdm(header_ome_fucci):\n",
    "    d = path.split(path.dirname(header_ome))[0]\n",
    "    if np.all([path.exists(path.join(d,f'{chan}_reg.tif')) for chan in names]):\n",
    "        print('All *_reg channels exist')\n",
    "        continue\n",
    "    \n",
    "    # Load ome-tif\n",
    "    print(f'Loading {d}')\n",
    "    stack = io.imread(header_ome,is_ome=True)\n",
    "    \n",
    "    if stack.ndim > 3:\n",
    "        images = [im for im in stack]\n",
    "    else:\n",
    "        images = [stack]\n",
    "\n",
    "    if registerZ and reference is not None:\n",
    "        # Use StackReg\n",
    "        print(f'Registering {d}')\n",
    "        sr = StackReg(StackReg.TRANSLATION) # There should only be slight sliding motion within a single stack\n",
    "        T = sr.register_stack(B,reference='previous',n_frames=20,axis=0) #Obtain the transformation matrices\n",
    "        for i,im in enumerate(images):\n",
    "            images[i] = sr.transform_stack(im,tmats=T) # Apply to all channels\n",
    "\n",
    "    for i,im in enumerate(images):\n",
    "        output_path = path.join( d,f'{names[i]}_reg.tif')\n",
    "        io.imsave(output_path,util.img_as_uint(im/im.max()),check_contrast=False)\n",
    "    \n",
    "    print(f'Saved with {output_path}')"
   ]
  },
  {
   "cell_type": "markdown",
   "id": "2d13afc5-6aff-49e3-9c90-e8f582810ce8",
   "metadata": {},
   "source": [
    "# R/R_shg: Load OME-TIFF and save *_reg.tif"
   ]
  },
  {
   "cell_type": "code",
   "execution_count": 25,
   "id": "a009e016-2cc2-4479-be01-2c5d124c25a6",
   "metadata": {},
   "outputs": [
    {
     "data": {
      "text/plain": [
       "2"
      ]
     },
     "execution_count": 25,
     "metadata": {},
     "output_type": "execute_result"
    }
   ],
   "source": []
  },
  {
   "cell_type": "code",
   "execution_count": 33,
   "id": "d914408a-bda8-4626-a759-7448bd6da619",
   "metadata": {
    "scrolled": true
   },
   "outputs": [
    {
     "name": "stderr",
     "output_type": "stream",
     "text": [
      "100%|██████████████████████████████████████████████| 1/1 [00:00<00:00, 2160.90it/s]"
     ]
    },
    {
     "name": "stdout",
     "output_type": "stream",
     "text": [
      "All *_reg channels exist\n"
     ]
    },
    {
     "name": "stderr",
     "output_type": "stream",
     "text": [
      "\n"
     ]
    }
   ],
   "source": [
    "import warnings\n",
    "warnings.filterwarnings(\"ignore\")\n",
    "\n",
    "names = ['R','R_shg']\n",
    "registerZ = False; reference = 'R'\n",
    "\n",
    "for header_ome in tqdm(header_ome_fucci):\n",
    "    d = path.split(path.dirname(header_ome))[0]\n",
    "    if np.all([path.exists(path.join(d,f'{chan}_reg.tif')) for chan in names]):\n",
    "        print('All *_reg channels exist')\n",
    "        continue \n",
    "    \n",
    "    # Load ome-tif\n",
    "    print(f'Loading {d}')\n",
    "    stack = io.imread(header_ome,is_ome=True)\n",
    "    \n",
    "    if stack.ndim > 3:\n",
    "        images = [im for im in stack]\n",
    "    else:\n",
    "        images = [stack]\n",
    "\n",
    "    if registerZ and reference is not None:\n",
    "        # Use StackReg\n",
    "        print(f'Registering {d}')\n",
    "        sr = StackReg(StackReg.TRANSLATION) # There should only be slight sliding motion within a single stack\n",
    "        T = sr.register_stack(B,reference='previous',n_frames=20,axis=0) #Obtain the transformation matrices\n",
    "        for i,im in enumerate(images):\n",
    "            images[i] = sr.transform_stack(im,tmats=T) # Apply to all channels\n",
    "\n",
    "    for i,im in tqdm(enumerate(images)):\n",
    "        output_path = path.join( d,f'{names[i]}_reg.tif')\n",
    "        io.imsave(output_path,util.img_as_uint(im/im.max()),check_contrast=False)\n",
    "        \n",
    "        print(f'Saved with {output_path}')"
   ]
  },
  {
   "cell_type": "code",
   "execution_count": 17,
   "id": "f0dd218f-a290-4a7f-8d2d-addc1958fca7",
   "metadata": {},
   "outputs": [
    {
     "data": {
      "application/vnd.jupyter.widget-view+json": {
       "model_id": "57c81cddde3f46dc96f1ce7b4d48dfcb",
       "version_major": 2,
       "version_minor": 0
      },
      "text/plain": [
       "HBox(children=(VBox(children=(VBox(children=(HBox(children=(VBox(children=(ImageWidget(height=512, width=512),…"
      ]
     },
     "execution_count": 17,
     "metadata": {},
     "output_type": "execute_result"
    }
   ],
   "source": [
    "stackview.switch({names[i]:images[i] for i in range(len(names))},\n",
    "                colormap=['pure_red','pure_green','pure_blue'],\n",
    "                toggleable=True,\n",
    "                zoom_factor=0.5)\n"
   ]
  },
  {
   "cell_type": "code",
   "execution_count": null,
   "id": "e8ec153a-0601-4625-b0a0-4cb0effe5585",
   "metadata": {},
   "outputs": [],
   "source": []
  }
 ],
 "metadata": {
  "kernelspec": {
   "display_name": "Python 3 (ipykernel)",
   "language": "python",
   "name": "python3"
  },
  "language_info": {
   "codemirror_mode": {
    "name": "ipython",
    "version": 3
   },
   "file_extension": ".py",
   "mimetype": "text/x-python",
   "name": "python",
   "nbconvert_exporter": "python",
   "pygments_lexer": "ipython3",
   "version": "3.12.2"
  }
 },
 "nbformat": 4,
 "nbformat_minor": 5
}
