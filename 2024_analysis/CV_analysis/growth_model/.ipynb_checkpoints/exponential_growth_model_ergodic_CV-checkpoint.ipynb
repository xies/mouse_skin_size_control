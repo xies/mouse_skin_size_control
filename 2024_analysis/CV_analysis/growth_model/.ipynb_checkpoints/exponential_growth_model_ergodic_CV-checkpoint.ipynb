{
 "cells": [
  {
   "cell_type": "code",
   "execution_count": 1,
   "id": "fe157b8a-c4e9-42f8-acbe-3f9fff9d030b",
   "metadata": {},
   "outputs": [],
   "source": [
    "import numpy as np\n",
    "import scipy as sp\n",
    "import pandas as pd\n",
    "from os import path\n",
    "\n"
   ]
  },
  {
   "cell_type": "code",
   "execution_count": null,
   "id": "82a6069c-eefb-40b0-a175-182b6e045fda",
   "metadata": {},
   "outputs": [],
   "source": [
    "\n",
    "def initialize_model(params, sim_clock, Ncells):\n",
    "    next_cellID = 0\n",
    "    initial_pop = {}\n",
    "    for i in range(Ncells):\n",
    "        # Initialize cells de novo\n",
    "        cell = simulation.Cell(i, sim_clock, params)\n",
    "        initial_pop[i] = cell\n",
    "        next_cellID += 1\n",
    "    return initial_pop\n",
    "\n",
    "def run_model(initial_pop, sim_clock, params):\n",
    "    \n",
    "    next_cellID = len(initial_pop)\n",
    "    population = copy.deepcopy(initial_pop)\n",
    "    sim_clock['Current time'] = 0\n",
    "    sim_clock['Current frame'] = 0\n",
    "    \n",
    "    for t in tqdm(np.arange(sim_clock['Max frame'] - 1)):\n",
    "        \n",
    "        # Advance time step by one\n",
    "        sim_clock['Current frame'] += 1\n",
    "        sim_clock['Current time'] += sim_clock['dt']\n",
    "        \n",
    "        newly_borns = {}\n",
    "        for this_cell in population.values():\n",
    "            \n",
    "            # Skip cell if divided already\n",
    "            if this_cell.divided:\n",
    "                continue\n",
    "            else:\n",
    "                \n",
    "                this_cell.advance_dt(sim_clock,params)\n",
    "                \n",
    "                if this_cell.divided:\n",
    "                    # Newly divided cell: make daughter cells\n",
    "                    print(f'CellID #{this_cell.cellID} has divided at frame {t}')\n",
    "                    # Randomly draw an asymmettry\n",
    "                    a = np.abs( random.randn() * 0.00 ) # 5 percent\n",
    "                    daughters = this_cell.divide(next_cellID, sim_clock, asymmetry=a)\n",
    "                    next_cellID += 2\n",
    "                    # Put only one daughter into the population (no growth)\n",
    "                    newly_borns[daughters[0].cellID] = daughters[0]\n",
    "                    # newly_borns[daughters[1].cellID] = daughters[1]\n",
    "        \n",
    "        population.update(newly_borns)\n",
    "        \n",
    "    return population\n"
   ]
  }
 ],
 "metadata": {
  "kernelspec": {
   "display_name": "Python 3 (ipykernel)",
   "language": "python",
   "name": "python3"
  },
  "language_info": {
   "codemirror_mode": {
    "name": "ipython",
    "version": 3
   },
   "file_extension": ".py",
   "mimetype": "text/x-python",
   "name": "python",
   "nbconvert_exporter": "python",
   "pygments_lexer": "ipython3",
   "version": "3.9.19"
  }
 },
 "nbformat": 4,
 "nbformat_minor": 5
}
